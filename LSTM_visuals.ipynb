{
  "nbformat": 4,
  "nbformat_minor": 0,
  "metadata": {
    "colab": {
      "provenance": [],
      "authorship_tag": "ABX9TyN0anykt6/4do8PPEFVNpx+",
      "include_colab_link": true
    },
    "kernelspec": {
      "name": "python3",
      "display_name": "Python 3"
    },
    "language_info": {
      "name": "python"
    },
    "widgets": {
      "application/vnd.jupyter.widget-state+json": {
        "cbbcd93666c84d35a082cc42d14e2057": {
          "model_module": "@jupyter-widgets/controls",
          "model_name": "VBoxModel",
          "model_module_version": "1.5.0",
          "state": {
            "_dom_classes": [
              "widget-interact"
            ],
            "_model_module": "@jupyter-widgets/controls",
            "_model_module_version": "1.5.0",
            "_model_name": "VBoxModel",
            "_view_count": null,
            "_view_module": "@jupyter-widgets/controls",
            "_view_module_version": "1.5.0",
            "_view_name": "VBoxView",
            "box_style": "",
            "children": [
              "IPY_MODEL_93c5c7cc7d484f278792331dc6c43a84",
              "IPY_MODEL_083764f295c14026937e58b6d5dec90d",
              "IPY_MODEL_2c3a8ffc9d2e411eaa7704b32f909fda"
            ],
            "layout": "IPY_MODEL_e1864952970d4ff7b6ff18afd8774ba3"
          }
        },
        "93c5c7cc7d484f278792331dc6c43a84": {
          "model_module": "@jupyter-widgets/controls",
          "model_name": "IntSliderModel",
          "model_module_version": "1.5.0",
          "state": {
            "_dom_classes": [],
            "_model_module": "@jupyter-widgets/controls",
            "_model_module_version": "1.5.0",
            "_model_name": "IntSliderModel",
            "_view_count": null,
            "_view_module": "@jupyter-widgets/controls",
            "_view_module_version": "1.5.0",
            "_view_name": "IntSliderView",
            "continuous_update": true,
            "description": "seq_len",
            "description_tooltip": null,
            "disabled": false,
            "layout": "IPY_MODEL_e4646dbdaa714e1f93738f604ce7cddf",
            "max": 120,
            "min": 20,
            "orientation": "horizontal",
            "readout": true,
            "readout_format": "d",
            "step": 10,
            "style": "IPY_MODEL_688e0bb658b24178a5735327e492969c",
            "value": 60
          }
        },
        "083764f295c14026937e58b6d5dec90d": {
          "model_module": "@jupyter-widgets/controls",
          "model_name": "IntSliderModel",
          "model_module_version": "1.5.0",
          "state": {
            "_dom_classes": [],
            "_model_module": "@jupyter-widgets/controls",
            "_model_module_version": "1.5.0",
            "_model_name": "IntSliderModel",
            "_view_count": null,
            "_view_module": "@jupyter-widgets/controls",
            "_view_module_version": "1.5.0",
            "_view_name": "IntSliderView",
            "continuous_update": true,
            "description": "epochs",
            "description_tooltip": null,
            "disabled": false,
            "layout": "IPY_MODEL_fac5bb7af5bd4e1195637c0ff544813b",
            "max": 400,
            "min": 50,
            "orientation": "horizontal",
            "readout": true,
            "readout_format": "d",
            "step": 50,
            "style": "IPY_MODEL_6b17484c31284476816db992c731a8f2",
            "value": 200
          }
        },
        "2c3a8ffc9d2e411eaa7704b32f909fda": {
          "model_module": "@jupyter-widgets/output",
          "model_name": "OutputModel",
          "model_module_version": "1.0.0",
          "state": {
            "_dom_classes": [],
            "_model_module": "@jupyter-widgets/output",
            "_model_module_version": "1.0.0",
            "_model_name": "OutputModel",
            "_view_count": null,
            "_view_module": "@jupyter-widgets/output",
            "_view_module_version": "1.0.0",
            "_view_name": "OutputView",
            "layout": "IPY_MODEL_70f297ea1e6d4393b40e2680dc0410bd",
            "msg_id": "",
            "outputs": [
              {
                "output_type": "display_data",
                "data": {
                  "text/plain": "<Figure size 800x250 with 1 Axes>",
                  "image/png": "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\n"
                },
                "metadata": {}
              }
            ]
          }
        },
        "e1864952970d4ff7b6ff18afd8774ba3": {
          "model_module": "@jupyter-widgets/base",
          "model_name": "LayoutModel",
          "model_module_version": "1.2.0",
          "state": {
            "_model_module": "@jupyter-widgets/base",
            "_model_module_version": "1.2.0",
            "_model_name": "LayoutModel",
            "_view_count": null,
            "_view_module": "@jupyter-widgets/base",
            "_view_module_version": "1.2.0",
            "_view_name": "LayoutView",
            "align_content": null,
            "align_items": null,
            "align_self": null,
            "border": null,
            "bottom": null,
            "display": null,
            "flex": null,
            "flex_flow": null,
            "grid_area": null,
            "grid_auto_columns": null,
            "grid_auto_flow": null,
            "grid_auto_rows": null,
            "grid_column": null,
            "grid_gap": null,
            "grid_row": null,
            "grid_template_areas": null,
            "grid_template_columns": null,
            "grid_template_rows": null,
            "height": null,
            "justify_content": null,
            "justify_items": null,
            "left": null,
            "margin": null,
            "max_height": null,
            "max_width": null,
            "min_height": null,
            "min_width": null,
            "object_fit": null,
            "object_position": null,
            "order": null,
            "overflow": null,
            "overflow_x": null,
            "overflow_y": null,
            "padding": null,
            "right": null,
            "top": null,
            "visibility": null,
            "width": null
          }
        },
        "e4646dbdaa714e1f93738f604ce7cddf": {
          "model_module": "@jupyter-widgets/base",
          "model_name": "LayoutModel",
          "model_module_version": "1.2.0",
          "state": {
            "_model_module": "@jupyter-widgets/base",
            "_model_module_version": "1.2.0",
            "_model_name": "LayoutModel",
            "_view_count": null,
            "_view_module": "@jupyter-widgets/base",
            "_view_module_version": "1.2.0",
            "_view_name": "LayoutView",
            "align_content": null,
            "align_items": null,
            "align_self": null,
            "border": null,
            "bottom": null,
            "display": null,
            "flex": null,
            "flex_flow": null,
            "grid_area": null,
            "grid_auto_columns": null,
            "grid_auto_flow": null,
            "grid_auto_rows": null,
            "grid_column": null,
            "grid_gap": null,
            "grid_row": null,
            "grid_template_areas": null,
            "grid_template_columns": null,
            "grid_template_rows": null,
            "height": null,
            "justify_content": null,
            "justify_items": null,
            "left": null,
            "margin": null,
            "max_height": null,
            "max_width": null,
            "min_height": null,
            "min_width": null,
            "object_fit": null,
            "object_position": null,
            "order": null,
            "overflow": null,
            "overflow_x": null,
            "overflow_y": null,
            "padding": null,
            "right": null,
            "top": null,
            "visibility": null,
            "width": null
          }
        },
        "688e0bb658b24178a5735327e492969c": {
          "model_module": "@jupyter-widgets/controls",
          "model_name": "SliderStyleModel",
          "model_module_version": "1.5.0",
          "state": {
            "_model_module": "@jupyter-widgets/controls",
            "_model_module_version": "1.5.0",
            "_model_name": "SliderStyleModel",
            "_view_count": null,
            "_view_module": "@jupyter-widgets/base",
            "_view_module_version": "1.2.0",
            "_view_name": "StyleView",
            "description_width": "",
            "handle_color": null
          }
        },
        "fac5bb7af5bd4e1195637c0ff544813b": {
          "model_module": "@jupyter-widgets/base",
          "model_name": "LayoutModel",
          "model_module_version": "1.2.0",
          "state": {
            "_model_module": "@jupyter-widgets/base",
            "_model_module_version": "1.2.0",
            "_model_name": "LayoutModel",
            "_view_count": null,
            "_view_module": "@jupyter-widgets/base",
            "_view_module_version": "1.2.0",
            "_view_name": "LayoutView",
            "align_content": null,
            "align_items": null,
            "align_self": null,
            "border": null,
            "bottom": null,
            "display": null,
            "flex": null,
            "flex_flow": null,
            "grid_area": null,
            "grid_auto_columns": null,
            "grid_auto_flow": null,
            "grid_auto_rows": null,
            "grid_column": null,
            "grid_gap": null,
            "grid_row": null,
            "grid_template_areas": null,
            "grid_template_columns": null,
            "grid_template_rows": null,
            "height": null,
            "justify_content": null,
            "justify_items": null,
            "left": null,
            "margin": null,
            "max_height": null,
            "max_width": null,
            "min_height": null,
            "min_width": null,
            "object_fit": null,
            "object_position": null,
            "order": null,
            "overflow": null,
            "overflow_x": null,
            "overflow_y": null,
            "padding": null,
            "right": null,
            "top": null,
            "visibility": null,
            "width": null
          }
        },
        "6b17484c31284476816db992c731a8f2": {
          "model_module": "@jupyter-widgets/controls",
          "model_name": "SliderStyleModel",
          "model_module_version": "1.5.0",
          "state": {
            "_model_module": "@jupyter-widgets/controls",
            "_model_module_version": "1.5.0",
            "_model_name": "SliderStyleModel",
            "_view_count": null,
            "_view_module": "@jupyter-widgets/base",
            "_view_module_version": "1.2.0",
            "_view_name": "StyleView",
            "description_width": "",
            "handle_color": null
          }
        },
        "70f297ea1e6d4393b40e2680dc0410bd": {
          "model_module": "@jupyter-widgets/base",
          "model_name": "LayoutModel",
          "model_module_version": "1.2.0",
          "state": {
            "_model_module": "@jupyter-widgets/base",
            "_model_module_version": "1.2.0",
            "_model_name": "LayoutModel",
            "_view_count": null,
            "_view_module": "@jupyter-widgets/base",
            "_view_module_version": "1.2.0",
            "_view_name": "LayoutView",
            "align_content": null,
            "align_items": null,
            "align_self": null,
            "border": null,
            "bottom": null,
            "display": null,
            "flex": null,
            "flex_flow": null,
            "grid_area": null,
            "grid_auto_columns": null,
            "grid_auto_flow": null,
            "grid_auto_rows": null,
            "grid_column": null,
            "grid_gap": null,
            "grid_row": null,
            "grid_template_areas": null,
            "grid_template_columns": null,
            "grid_template_rows": null,
            "height": null,
            "justify_content": null,
            "justify_items": null,
            "left": null,
            "margin": null,
            "max_height": null,
            "max_width": null,
            "min_height": null,
            "min_width": null,
            "object_fit": null,
            "object_position": null,
            "order": null,
            "overflow": null,
            "overflow_x": null,
            "overflow_y": null,
            "padding": null,
            "right": null,
            "top": null,
            "visibility": null,
            "width": null
          }
        },
        "683919df57bd46aa9bb26d8180e8d669": {
          "model_module": "@jupyter-widgets/controls",
          "model_name": "VBoxModel",
          "model_module_version": "1.5.0",
          "state": {
            "_dom_classes": [
              "widget-interact"
            ],
            "_model_module": "@jupyter-widgets/controls",
            "_model_module_version": "1.5.0",
            "_model_name": "VBoxModel",
            "_view_count": null,
            "_view_module": "@jupyter-widgets/controls",
            "_view_module_version": "1.5.0",
            "_view_name": "VBoxView",
            "box_style": "",
            "children": [
              "IPY_MODEL_1c04e72f86f34c6bafbc36bd71d85c1f",
              "IPY_MODEL_06838948fe46422aa2c1005074e43189"
            ],
            "layout": "IPY_MODEL_b64be342f39b409f8d1d2d29074f37cd"
          }
        },
        "1c04e72f86f34c6bafbc36bd71d85c1f": {
          "model_module": "@jupyter-widgets/controls",
          "model_name": "IntSliderModel",
          "model_module_version": "1.5.0",
          "state": {
            "_dom_classes": [],
            "_model_module": "@jupyter-widgets/controls",
            "_model_module_version": "1.5.0",
            "_model_name": "IntSliderModel",
            "_view_count": null,
            "_view_module": "@jupyter-widgets/controls",
            "_view_module_version": "1.5.0",
            "_view_name": "IntSliderView",
            "continuous_update": true,
            "description": "seq_len",
            "description_tooltip": null,
            "disabled": false,
            "layout": "IPY_MODEL_69290bcafe7d4a5da2610f41361a65f5",
            "max": 100,
            "min": 20,
            "orientation": "horizontal",
            "readout": true,
            "readout_format": "d",
            "step": 10,
            "style": "IPY_MODEL_bd923389e4684d74ba83cd4a56907d9c",
            "value": 50
          }
        },
        "06838948fe46422aa2c1005074e43189": {
          "model_module": "@jupyter-widgets/output",
          "model_name": "OutputModel",
          "model_module_version": "1.0.0",
          "state": {
            "_dom_classes": [],
            "_model_module": "@jupyter-widgets/output",
            "_model_module_version": "1.0.0",
            "_model_name": "OutputModel",
            "_view_count": null,
            "_view_module": "@jupyter-widgets/output",
            "_view_module_version": "1.0.0",
            "_view_name": "OutputView",
            "layout": "IPY_MODEL_0ffe383d478345b3a7370022035df3bd",
            "msg_id": "",
            "outputs": [
              {
                "output_type": "display_data",
                "data": {
                  "text/plain": "<Figure size 1100x300 with 2 Axes>",
                  "image/png": "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\n"
                },
                "metadata": {}
              }
            ]
          }
        },
        "b64be342f39b409f8d1d2d29074f37cd": {
          "model_module": "@jupyter-widgets/base",
          "model_name": "LayoutModel",
          "model_module_version": "1.2.0",
          "state": {
            "_model_module": "@jupyter-widgets/base",
            "_model_module_version": "1.2.0",
            "_model_name": "LayoutModel",
            "_view_count": null,
            "_view_module": "@jupyter-widgets/base",
            "_view_module_version": "1.2.0",
            "_view_name": "LayoutView",
            "align_content": null,
            "align_items": null,
            "align_self": null,
            "border": null,
            "bottom": null,
            "display": null,
            "flex": null,
            "flex_flow": null,
            "grid_area": null,
            "grid_auto_columns": null,
            "grid_auto_flow": null,
            "grid_auto_rows": null,
            "grid_column": null,
            "grid_gap": null,
            "grid_row": null,
            "grid_template_areas": null,
            "grid_template_columns": null,
            "grid_template_rows": null,
            "height": null,
            "justify_content": null,
            "justify_items": null,
            "left": null,
            "margin": null,
            "max_height": null,
            "max_width": null,
            "min_height": null,
            "min_width": null,
            "object_fit": null,
            "object_position": null,
            "order": null,
            "overflow": null,
            "overflow_x": null,
            "overflow_y": null,
            "padding": null,
            "right": null,
            "top": null,
            "visibility": null,
            "width": null
          }
        },
        "69290bcafe7d4a5da2610f41361a65f5": {
          "model_module": "@jupyter-widgets/base",
          "model_name": "LayoutModel",
          "model_module_version": "1.2.0",
          "state": {
            "_model_module": "@jupyter-widgets/base",
            "_model_module_version": "1.2.0",
            "_model_name": "LayoutModel",
            "_view_count": null,
            "_view_module": "@jupyter-widgets/base",
            "_view_module_version": "1.2.0",
            "_view_name": "LayoutView",
            "align_content": null,
            "align_items": null,
            "align_self": null,
            "border": null,
            "bottom": null,
            "display": null,
            "flex": null,
            "flex_flow": null,
            "grid_area": null,
            "grid_auto_columns": null,
            "grid_auto_flow": null,
            "grid_auto_rows": null,
            "grid_column": null,
            "grid_gap": null,
            "grid_row": null,
            "grid_template_areas": null,
            "grid_template_columns": null,
            "grid_template_rows": null,
            "height": null,
            "justify_content": null,
            "justify_items": null,
            "left": null,
            "margin": null,
            "max_height": null,
            "max_width": null,
            "min_height": null,
            "min_width": null,
            "object_fit": null,
            "object_position": null,
            "order": null,
            "overflow": null,
            "overflow_x": null,
            "overflow_y": null,
            "padding": null,
            "right": null,
            "top": null,
            "visibility": null,
            "width": null
          }
        },
        "bd923389e4684d74ba83cd4a56907d9c": {
          "model_module": "@jupyter-widgets/controls",
          "model_name": "SliderStyleModel",
          "model_module_version": "1.5.0",
          "state": {
            "_model_module": "@jupyter-widgets/controls",
            "_model_module_version": "1.5.0",
            "_model_name": "SliderStyleModel",
            "_view_count": null,
            "_view_module": "@jupyter-widgets/base",
            "_view_module_version": "1.2.0",
            "_view_name": "StyleView",
            "description_width": "",
            "handle_color": null
          }
        },
        "0ffe383d478345b3a7370022035df3bd": {
          "model_module": "@jupyter-widgets/base",
          "model_name": "LayoutModel",
          "model_module_version": "1.2.0",
          "state": {
            "_model_module": "@jupyter-widgets/base",
            "_model_module_version": "1.2.0",
            "_model_name": "LayoutModel",
            "_view_count": null,
            "_view_module": "@jupyter-widgets/base",
            "_view_module_version": "1.2.0",
            "_view_name": "LayoutView",
            "align_content": null,
            "align_items": null,
            "align_self": null,
            "border": null,
            "bottom": null,
            "display": null,
            "flex": null,
            "flex_flow": null,
            "grid_area": null,
            "grid_auto_columns": null,
            "grid_auto_flow": null,
            "grid_auto_rows": null,
            "grid_column": null,
            "grid_gap": null,
            "grid_row": null,
            "grid_template_areas": null,
            "grid_template_columns": null,
            "grid_template_rows": null,
            "height": null,
            "justify_content": null,
            "justify_items": null,
            "left": null,
            "margin": null,
            "max_height": null,
            "max_width": null,
            "min_height": null,
            "min_width": null,
            "object_fit": null,
            "object_position": null,
            "order": null,
            "overflow": null,
            "overflow_x": null,
            "overflow_y": null,
            "padding": null,
            "right": null,
            "top": null,
            "visibility": null,
            "width": null
          }
        },
        "06b8bcfe271d4213886503711e74c63f": {
          "model_module": "@jupyter-widgets/controls",
          "model_name": "VBoxModel",
          "model_module_version": "1.5.0",
          "state": {
            "_dom_classes": [
              "widget-interact"
            ],
            "_model_module": "@jupyter-widgets/controls",
            "_model_module_version": "1.5.0",
            "_model_name": "VBoxModel",
            "_view_count": null,
            "_view_module": "@jupyter-widgets/controls",
            "_view_module_version": "1.5.0",
            "_view_name": "VBoxView",
            "box_style": "",
            "children": [
              "IPY_MODEL_a4237bc5863b4b8baf6642b921e4f67e",
              "IPY_MODEL_f748fdb32bbf4269aec19ff06a28dee6"
            ],
            "layout": "IPY_MODEL_a7f75c66b89a4afa80039e1690e1dfa7"
          }
        },
        "a4237bc5863b4b8baf6642b921e4f67e": {
          "model_module": "@jupyter-widgets/controls",
          "model_name": "IntSliderModel",
          "model_module_version": "1.5.0",
          "state": {
            "_dom_classes": [],
            "_model_module": "@jupyter-widgets/controls",
            "_model_module_version": "1.5.0",
            "_model_name": "IntSliderModel",
            "_view_count": null,
            "_view_module": "@jupyter-widgets/controls",
            "_view_module_version": "1.5.0",
            "_view_name": "IntSliderView",
            "continuous_update": true,
            "description": "seq_len",
            "description_tooltip": null,
            "disabled": false,
            "layout": "IPY_MODEL_9d6f5d386e494257a2a9e2e2bbc69983",
            "max": 120,
            "min": 30,
            "orientation": "horizontal",
            "readout": true,
            "readout_format": "d",
            "step": 10,
            "style": "IPY_MODEL_199229bba2ba4c4a94651b757adcaf80",
            "value": 60
          }
        },
        "f748fdb32bbf4269aec19ff06a28dee6": {
          "model_module": "@jupyter-widgets/output",
          "model_name": "OutputModel",
          "model_module_version": "1.0.0",
          "state": {
            "_dom_classes": [],
            "_model_module": "@jupyter-widgets/output",
            "_model_module_version": "1.0.0",
            "_model_name": "OutputModel",
            "_view_count": null,
            "_view_module": "@jupyter-widgets/output",
            "_view_module_version": "1.0.0",
            "_view_name": "OutputView",
            "layout": "IPY_MODEL_3c898fd148e04319b73cd65045bfdc9f",
            "msg_id": "",
            "outputs": [
              {
                "output_type": "error",
                "ename": "AttributeError",
                "evalue": "'LSTM' object has no attribute '_backend'",
                "traceback": [
                  "\u001b[0;31m---------------------------------------------------------------------------\u001b[0m",
                  "\u001b[0;31mAttributeError\u001b[0m                            Traceback (most recent call last)",
                  "\u001b[0;32m/usr/local/lib/python3.11/dist-packages/ipywidgets/widgets/interaction.py\u001b[0m in \u001b[0;36mupdate\u001b[0;34m(self, *args)\u001b[0m\n\u001b[1;32m    255\u001b[0m                     \u001b[0mvalue\u001b[0m \u001b[0;34m=\u001b[0m \u001b[0mwidget\u001b[0m\u001b[0;34m.\u001b[0m\u001b[0mget_interact_value\u001b[0m\u001b[0;34m(\u001b[0m\u001b[0;34m)\u001b[0m\u001b[0;34m\u001b[0m\u001b[0;34m\u001b[0m\u001b[0m\n\u001b[1;32m    256\u001b[0m                     \u001b[0mself\u001b[0m\u001b[0;34m.\u001b[0m\u001b[0mkwargs\u001b[0m\u001b[0;34m[\u001b[0m\u001b[0mwidget\u001b[0m\u001b[0;34m.\u001b[0m\u001b[0m_kwarg\u001b[0m\u001b[0;34m]\u001b[0m \u001b[0;34m=\u001b[0m \u001b[0mvalue\u001b[0m\u001b[0;34m\u001b[0m\u001b[0;34m\u001b[0m\u001b[0m\n\u001b[0;32m--> 257\u001b[0;31m                 \u001b[0mself\u001b[0m\u001b[0;34m.\u001b[0m\u001b[0mresult\u001b[0m \u001b[0;34m=\u001b[0m \u001b[0mself\u001b[0m\u001b[0;34m.\u001b[0m\u001b[0mf\u001b[0m\u001b[0;34m(\u001b[0m\u001b[0;34m**\u001b[0m\u001b[0mself\u001b[0m\u001b[0;34m.\u001b[0m\u001b[0mkwargs\u001b[0m\u001b[0;34m)\u001b[0m\u001b[0;34m\u001b[0m\u001b[0;34m\u001b[0m\u001b[0m\n\u001b[0m\u001b[1;32m    258\u001b[0m                 \u001b[0mshow_inline_matplotlib_plots\u001b[0m\u001b[0;34m(\u001b[0m\u001b[0;34m)\u001b[0m\u001b[0;34m\u001b[0m\u001b[0;34m\u001b[0m\u001b[0m\n\u001b[1;32m    259\u001b[0m                 \u001b[0;32mif\u001b[0m \u001b[0mself\u001b[0m\u001b[0;34m.\u001b[0m\u001b[0mauto_display\u001b[0m \u001b[0;32mand\u001b[0m \u001b[0mself\u001b[0m\u001b[0;34m.\u001b[0m\u001b[0mresult\u001b[0m \u001b[0;32mis\u001b[0m \u001b[0;32mnot\u001b[0m \u001b[0;32mNone\u001b[0m\u001b[0;34m:\u001b[0m\u001b[0;34m\u001b[0m\u001b[0;34m\u001b[0m\u001b[0m\n",
                  "\u001b[0;32m/tmp/ipython-input-6-569428528.py\u001b[0m in \u001b[0;36mgate_magnitudes\u001b[0;34m(seq_len)\u001b[0m\n\u001b[1;32m      5\u001b[0m     \u001b[0mh\u001b[0m\u001b[0;34m,\u001b[0m \u001b[0mc\u001b[0m \u001b[0;34m=\u001b[0m \u001b[0mtorch\u001b[0m\u001b[0;34m.\u001b[0m\u001b[0mzeros\u001b[0m\u001b[0;34m(\u001b[0m\u001b[0;36m1\u001b[0m\u001b[0;34m,\u001b[0m\u001b[0;36m1\u001b[0m\u001b[0;34m,\u001b[0m\u001b[0;36m16\u001b[0m\u001b[0;34m)\u001b[0m\u001b[0;34m,\u001b[0m \u001b[0mtorch\u001b[0m\u001b[0;34m.\u001b[0m\u001b[0mzeros\u001b[0m\u001b[0;34m(\u001b[0m\u001b[0;36m1\u001b[0m\u001b[0;34m,\u001b[0m\u001b[0;36m1\u001b[0m\u001b[0;34m,\u001b[0m\u001b[0;36m16\u001b[0m\u001b[0;34m)\u001b[0m\u001b[0;34m\u001b[0m\u001b[0;34m\u001b[0m\u001b[0m\n\u001b[1;32m      6\u001b[0m     \u001b[0;32mfor\u001b[0m \u001b[0mt\u001b[0m \u001b[0;32min\u001b[0m \u001b[0mrange\u001b[0m\u001b[0;34m(\u001b[0m\u001b[0mseq_len\u001b[0m\u001b[0;34m)\u001b[0m\u001b[0;34m:\u001b[0m\u001b[0;34m\u001b[0m\u001b[0;34m\u001b[0m\u001b[0m\n\u001b[0;32m----> 7\u001b[0;31m         \u001b[0mgates\u001b[0m \u001b[0;34m=\u001b[0m \u001b[0mlstm\u001b[0m\u001b[0;34m.\u001b[0m\u001b[0m_backend\u001b[0m\u001b[0;34m.\u001b[0m\u001b[0mRNN\u001b[0m\u001b[0;34m.\u001b[0m\u001b[0mLSTMCell\u001b[0m\u001b[0;34m(\u001b[0m\u001b[0mx\u001b[0m\u001b[0;34m[\u001b[0m\u001b[0mt\u001b[0m\u001b[0;34m:\u001b[0m\u001b[0mt\u001b[0m\u001b[0;34m+\u001b[0m\u001b[0;36m1\u001b[0m\u001b[0;34m]\u001b[0m\u001b[0;34m,\u001b[0m \u001b[0;34m(\u001b[0m\u001b[0mh\u001b[0m\u001b[0;34m,\u001b[0m \u001b[0mc\u001b[0m\u001b[0;34m)\u001b[0m\u001b[0;34m,\u001b[0m \u001b[0;34m*\u001b[0m\u001b[0mlstm\u001b[0m\u001b[0;34m.\u001b[0m\u001b[0mall_weights\u001b[0m\u001b[0;34m)\u001b[0m\u001b[0;34m\u001b[0m\u001b[0;34m\u001b[0m\u001b[0m\n\u001b[0m\u001b[1;32m      8\u001b[0m         \u001b[0mi\u001b[0m\u001b[0;34m,\u001b[0m \u001b[0mf\u001b[0m\u001b[0;34m,\u001b[0m \u001b[0mg\u001b[0m\u001b[0;34m,\u001b[0m \u001b[0mo\u001b[0m \u001b[0;34m=\u001b[0m \u001b[0mgates\u001b[0m\u001b[0;34m.\u001b[0m\u001b[0mchunk\u001b[0m\u001b[0;34m(\u001b[0m\u001b[0;36m4\u001b[0m\u001b[0;34m,\u001b[0m \u001b[0;34m-\u001b[0m\u001b[0;36m1\u001b[0m\u001b[0;34m)\u001b[0m  \u001b[0;31m# forget, input, etc.\u001b[0m\u001b[0;34m\u001b[0m\u001b[0;34m\u001b[0m\u001b[0m\n\u001b[1;32m      9\u001b[0m         \u001b[0mgates_all\u001b[0m\u001b[0;34m.\u001b[0m\u001b[0mappend\u001b[0m\u001b[0;34m(\u001b[0m\u001b[0;34m[\u001b[0m\u001b[0mi\u001b[0m\u001b[0;34m.\u001b[0m\u001b[0mabs\u001b[0m\u001b[0;34m(\u001b[0m\u001b[0;34m)\u001b[0m\u001b[0;34m.\u001b[0m\u001b[0mmean\u001b[0m\u001b[0;34m(\u001b[0m\u001b[0;34m)\u001b[0m\u001b[0;34m,\u001b[0m \u001b[0mf\u001b[0m\u001b[0;34m.\u001b[0m\u001b[0mabs\u001b[0m\u001b[0;34m(\u001b[0m\u001b[0;34m)\u001b[0m\u001b[0;34m.\u001b[0m\u001b[0mmean\u001b[0m\u001b[0;34m(\u001b[0m\u001b[0;34m)\u001b[0m\u001b[0;34m,\u001b[0m \u001b[0mg\u001b[0m\u001b[0;34m.\u001b[0m\u001b[0mabs\u001b[0m\u001b[0;34m(\u001b[0m\u001b[0;34m)\u001b[0m\u001b[0;34m.\u001b[0m\u001b[0mmean\u001b[0m\u001b[0;34m(\u001b[0m\u001b[0;34m)\u001b[0m\u001b[0;34m,\u001b[0m \u001b[0mo\u001b[0m\u001b[0;34m.\u001b[0m\u001b[0mabs\u001b[0m\u001b[0;34m(\u001b[0m\u001b[0;34m)\u001b[0m\u001b[0;34m.\u001b[0m\u001b[0mmean\u001b[0m\u001b[0;34m(\u001b[0m\u001b[0;34m)\u001b[0m\u001b[0;34m]\u001b[0m\u001b[0;34m)\u001b[0m\u001b[0;34m\u001b[0m\u001b[0;34m\u001b[0m\u001b[0m\n",
                  "\u001b[0;32m/usr/local/lib/python3.11/dist-packages/torch/nn/modules/module.py\u001b[0m in \u001b[0;36m__getattr__\u001b[0;34m(self, name)\u001b[0m\n\u001b[1;32m   1926\u001b[0m             \u001b[0;32mif\u001b[0m \u001b[0mname\u001b[0m \u001b[0;32min\u001b[0m \u001b[0mmodules\u001b[0m\u001b[0;34m:\u001b[0m\u001b[0;34m\u001b[0m\u001b[0;34m\u001b[0m\u001b[0m\n\u001b[1;32m   1927\u001b[0m                 \u001b[0;32mreturn\u001b[0m \u001b[0mmodules\u001b[0m\u001b[0;34m[\u001b[0m\u001b[0mname\u001b[0m\u001b[0;34m]\u001b[0m\u001b[0;34m\u001b[0m\u001b[0;34m\u001b[0m\u001b[0m\n\u001b[0;32m-> 1928\u001b[0;31m         raise AttributeError(\n\u001b[0m\u001b[1;32m   1929\u001b[0m             \u001b[0;34mf\"'{type(self).__name__}' object has no attribute '{name}'\"\u001b[0m\u001b[0;34m\u001b[0m\u001b[0;34m\u001b[0m\u001b[0m\n\u001b[1;32m   1930\u001b[0m         )\n",
                  "\u001b[0;31mAttributeError\u001b[0m: 'LSTM' object has no attribute '_backend'"
                ]
              }
            ]
          }
        },
        "a7f75c66b89a4afa80039e1690e1dfa7": {
          "model_module": "@jupyter-widgets/base",
          "model_name": "LayoutModel",
          "model_module_version": "1.2.0",
          "state": {
            "_model_module": "@jupyter-widgets/base",
            "_model_module_version": "1.2.0",
            "_model_name": "LayoutModel",
            "_view_count": null,
            "_view_module": "@jupyter-widgets/base",
            "_view_module_version": "1.2.0",
            "_view_name": "LayoutView",
            "align_content": null,
            "align_items": null,
            "align_self": null,
            "border": null,
            "bottom": null,
            "display": null,
            "flex": null,
            "flex_flow": null,
            "grid_area": null,
            "grid_auto_columns": null,
            "grid_auto_flow": null,
            "grid_auto_rows": null,
            "grid_column": null,
            "grid_gap": null,
            "grid_row": null,
            "grid_template_areas": null,
            "grid_template_columns": null,
            "grid_template_rows": null,
            "height": null,
            "justify_content": null,
            "justify_items": null,
            "left": null,
            "margin": null,
            "max_height": null,
            "max_width": null,
            "min_height": null,
            "min_width": null,
            "object_fit": null,
            "object_position": null,
            "order": null,
            "overflow": null,
            "overflow_x": null,
            "overflow_y": null,
            "padding": null,
            "right": null,
            "top": null,
            "visibility": null,
            "width": null
          }
        },
        "9d6f5d386e494257a2a9e2e2bbc69983": {
          "model_module": "@jupyter-widgets/base",
          "model_name": "LayoutModel",
          "model_module_version": "1.2.0",
          "state": {
            "_model_module": "@jupyter-widgets/base",
            "_model_module_version": "1.2.0",
            "_model_name": "LayoutModel",
            "_view_count": null,
            "_view_module": "@jupyter-widgets/base",
            "_view_module_version": "1.2.0",
            "_view_name": "LayoutView",
            "align_content": null,
            "align_items": null,
            "align_self": null,
            "border": null,
            "bottom": null,
            "display": null,
            "flex": null,
            "flex_flow": null,
            "grid_area": null,
            "grid_auto_columns": null,
            "grid_auto_flow": null,
            "grid_auto_rows": null,
            "grid_column": null,
            "grid_gap": null,
            "grid_row": null,
            "grid_template_areas": null,
            "grid_template_columns": null,
            "grid_template_rows": null,
            "height": null,
            "justify_content": null,
            "justify_items": null,
            "left": null,
            "margin": null,
            "max_height": null,
            "max_width": null,
            "min_height": null,
            "min_width": null,
            "object_fit": null,
            "object_position": null,
            "order": null,
            "overflow": null,
            "overflow_x": null,
            "overflow_y": null,
            "padding": null,
            "right": null,
            "top": null,
            "visibility": null,
            "width": null
          }
        },
        "199229bba2ba4c4a94651b757adcaf80": {
          "model_module": "@jupyter-widgets/controls",
          "model_name": "SliderStyleModel",
          "model_module_version": "1.5.0",
          "state": {
            "_model_module": "@jupyter-widgets/controls",
            "_model_module_version": "1.5.0",
            "_model_name": "SliderStyleModel",
            "_view_count": null,
            "_view_module": "@jupyter-widgets/base",
            "_view_module_version": "1.2.0",
            "_view_name": "StyleView",
            "description_width": "",
            "handle_color": null
          }
        },
        "3c898fd148e04319b73cd65045bfdc9f": {
          "model_module": "@jupyter-widgets/base",
          "model_name": "LayoutModel",
          "model_module_version": "1.2.0",
          "state": {
            "_model_module": "@jupyter-widgets/base",
            "_model_module_version": "1.2.0",
            "_model_name": "LayoutModel",
            "_view_count": null,
            "_view_module": "@jupyter-widgets/base",
            "_view_module_version": "1.2.0",
            "_view_name": "LayoutView",
            "align_content": null,
            "align_items": null,
            "align_self": null,
            "border": null,
            "bottom": null,
            "display": null,
            "flex": null,
            "flex_flow": null,
            "grid_area": null,
            "grid_auto_columns": null,
            "grid_auto_flow": null,
            "grid_auto_rows": null,
            "grid_column": null,
            "grid_gap": null,
            "grid_row": null,
            "grid_template_areas": null,
            "grid_template_columns": null,
            "grid_template_rows": null,
            "height": null,
            "justify_content": null,
            "justify_items": null,
            "left": null,
            "margin": null,
            "max_height": null,
            "max_width": null,
            "min_height": null,
            "min_width": null,
            "object_fit": null,
            "object_position": null,
            "order": null,
            "overflow": null,
            "overflow_x": null,
            "overflow_y": null,
            "padding": null,
            "right": null,
            "top": null,
            "visibility": null,
            "width": null
          }
        },
        "71039d5611a4477e8d8c4871b7bd53a0": {
          "model_module": "@jupyter-widgets/controls",
          "model_name": "VBoxModel",
          "model_module_version": "1.5.0",
          "state": {
            "_dom_classes": [
              "widget-interact"
            ],
            "_model_module": "@jupyter-widgets/controls",
            "_model_module_version": "1.5.0",
            "_model_name": "VBoxModel",
            "_view_count": null,
            "_view_module": "@jupyter-widgets/controls",
            "_view_module_version": "1.5.0",
            "_view_name": "VBoxView",
            "box_style": "",
            "children": [
              "IPY_MODEL_5fb75d4e5f7446bfb1f38763559892dd",
              "IPY_MODEL_6a3b9c62784943b78af58f1e74675c5a"
            ],
            "layout": "IPY_MODEL_96ef0d1077074c5783f3bb2eb964a48d"
          }
        },
        "5fb75d4e5f7446bfb1f38763559892dd": {
          "model_module": "@jupyter-widgets/controls",
          "model_name": "IntSliderModel",
          "model_module_version": "1.5.0",
          "state": {
            "_dom_classes": [],
            "_model_module": "@jupyter-widgets/controls",
            "_model_module_version": "1.5.0",
            "_model_name": "IntSliderModel",
            "_view_count": null,
            "_view_module": "@jupyter-widgets/controls",
            "_view_module_version": "1.5.0",
            "_view_name": "IntSliderView",
            "continuous_update": true,
            "description": "seq_len",
            "description_tooltip": null,
            "disabled": false,
            "layout": "IPY_MODEL_1b1505224f944b4ea39ccf99223d71fb",
            "max": 150,
            "min": 40,
            "orientation": "horizontal",
            "readout": true,
            "readout_format": "d",
            "step": 10,
            "style": "IPY_MODEL_25d5eb5fc02f43829ad8b81bf63dc877",
            "value": 80
          }
        },
        "6a3b9c62784943b78af58f1e74675c5a": {
          "model_module": "@jupyter-widgets/output",
          "model_name": "OutputModel",
          "model_module_version": "1.0.0",
          "state": {
            "_dom_classes": [],
            "_model_module": "@jupyter-widgets/output",
            "_model_module_version": "1.0.0",
            "_model_name": "OutputModel",
            "_view_count": null,
            "_view_module": "@jupyter-widgets/output",
            "_view_module_version": "1.0.0",
            "_view_name": "OutputView",
            "layout": "IPY_MODEL_7c25df5ed21b4ea093f0103f31f636b0",
            "msg_id": "",
            "outputs": [
              {
                "output_type": "display_data",
                "data": {
                  "text/plain": "<Figure size 800x300 with 1 Axes>",
                  "image/png": "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\n"
                },
                "metadata": {}
              }
            ]
          }
        },
        "96ef0d1077074c5783f3bb2eb964a48d": {
          "model_module": "@jupyter-widgets/base",
          "model_name": "LayoutModel",
          "model_module_version": "1.2.0",
          "state": {
            "_model_module": "@jupyter-widgets/base",
            "_model_module_version": "1.2.0",
            "_model_name": "LayoutModel",
            "_view_count": null,
            "_view_module": "@jupyter-widgets/base",
            "_view_module_version": "1.2.0",
            "_view_name": "LayoutView",
            "align_content": null,
            "align_items": null,
            "align_self": null,
            "border": null,
            "bottom": null,
            "display": null,
            "flex": null,
            "flex_flow": null,
            "grid_area": null,
            "grid_auto_columns": null,
            "grid_auto_flow": null,
            "grid_auto_rows": null,
            "grid_column": null,
            "grid_gap": null,
            "grid_row": null,
            "grid_template_areas": null,
            "grid_template_columns": null,
            "grid_template_rows": null,
            "height": null,
            "justify_content": null,
            "justify_items": null,
            "left": null,
            "margin": null,
            "max_height": null,
            "max_width": null,
            "min_height": null,
            "min_width": null,
            "object_fit": null,
            "object_position": null,
            "order": null,
            "overflow": null,
            "overflow_x": null,
            "overflow_y": null,
            "padding": null,
            "right": null,
            "top": null,
            "visibility": null,
            "width": null
          }
        },
        "1b1505224f944b4ea39ccf99223d71fb": {
          "model_module": "@jupyter-widgets/base",
          "model_name": "LayoutModel",
          "model_module_version": "1.2.0",
          "state": {
            "_model_module": "@jupyter-widgets/base",
            "_model_module_version": "1.2.0",
            "_model_name": "LayoutModel",
            "_view_count": null,
            "_view_module": "@jupyter-widgets/base",
            "_view_module_version": "1.2.0",
            "_view_name": "LayoutView",
            "align_content": null,
            "align_items": null,
            "align_self": null,
            "border": null,
            "bottom": null,
            "display": null,
            "flex": null,
            "flex_flow": null,
            "grid_area": null,
            "grid_auto_columns": null,
            "grid_auto_flow": null,
            "grid_auto_rows": null,
            "grid_column": null,
            "grid_gap": null,
            "grid_row": null,
            "grid_template_areas": null,
            "grid_template_columns": null,
            "grid_template_rows": null,
            "height": null,
            "justify_content": null,
            "justify_items": null,
            "left": null,
            "margin": null,
            "max_height": null,
            "max_width": null,
            "min_height": null,
            "min_width": null,
            "object_fit": null,
            "object_position": null,
            "order": null,
            "overflow": null,
            "overflow_x": null,
            "overflow_y": null,
            "padding": null,
            "right": null,
            "top": null,
            "visibility": null,
            "width": null
          }
        },
        "25d5eb5fc02f43829ad8b81bf63dc877": {
          "model_module": "@jupyter-widgets/controls",
          "model_name": "SliderStyleModel",
          "model_module_version": "1.5.0",
          "state": {
            "_model_module": "@jupyter-widgets/controls",
            "_model_module_version": "1.5.0",
            "_model_name": "SliderStyleModel",
            "_view_count": null,
            "_view_module": "@jupyter-widgets/base",
            "_view_module_version": "1.2.0",
            "_view_name": "StyleView",
            "description_width": "",
            "handle_color": null
          }
        },
        "7c25df5ed21b4ea093f0103f31f636b0": {
          "model_module": "@jupyter-widgets/base",
          "model_name": "LayoutModel",
          "model_module_version": "1.2.0",
          "state": {
            "_model_module": "@jupyter-widgets/base",
            "_model_module_version": "1.2.0",
            "_model_name": "LayoutModel",
            "_view_count": null,
            "_view_module": "@jupyter-widgets/base",
            "_view_module_version": "1.2.0",
            "_view_name": "LayoutView",
            "align_content": null,
            "align_items": null,
            "align_self": null,
            "border": null,
            "bottom": null,
            "display": null,
            "flex": null,
            "flex_flow": null,
            "grid_area": null,
            "grid_auto_columns": null,
            "grid_auto_flow": null,
            "grid_auto_rows": null,
            "grid_column": null,
            "grid_gap": null,
            "grid_row": null,
            "grid_template_areas": null,
            "grid_template_columns": null,
            "grid_template_rows": null,
            "height": null,
            "justify_content": null,
            "justify_items": null,
            "left": null,
            "margin": null,
            "max_height": null,
            "max_width": null,
            "min_height": null,
            "min_width": null,
            "object_fit": null,
            "object_position": null,
            "order": null,
            "overflow": null,
            "overflow_x": null,
            "overflow_y": null,
            "padding": null,
            "right": null,
            "top": null,
            "visibility": null,
            "width": null
          }
        }
      }
    }
  },
  "cells": [
    {
      "cell_type": "markdown",
      "metadata": {
        "id": "view-in-github",
        "colab_type": "text"
      },
      "source": [
        "<a href=\"https://colab.research.google.com/github/kareemullah123456789/NLP/blob/main/LSTM_visuals.ipynb\" target=\"_parent\"><img src=\"https://colab.research.google.com/assets/colab-badge.svg\" alt=\"Open In Colab\"/></a>"
      ]
    },
    {
      "cell_type": "code",
      "execution_count": null,
      "metadata": {
        "id": "a6z6VXKmVLcx"
      },
      "outputs": [],
      "source": [
        "# Colab already has everything\n",
        "import torch, torch.nn as nn, matplotlib.pyplot as plt, numpy as np\n",
        "from ipywidgets import interact, IntSlider"
      ]
    },
    {
      "cell_type": "code",
      "source": [
        "def make_sine(seq_len=50):\n",
        "    t = torch.linspace(0, 3*np.pi, seq_len+1)\n",
        "    return torch.sin(t[:-1]).view(-1,1), torch.sin(t[1:]).view(-1,1)\n",
        "\n",
        "x, y = make_sine(50)\n",
        "plt.plot(x, label=\"t\"); plt.plot(y, label=\"t+1\")\n",
        "plt.title(\"🌊 Predict next dot\"); plt.legend(); plt.show()"
      ],
      "metadata": {
        "colab": {
          "base_uri": "https://localhost:8080/",
          "height": 487
        },
        "id": "_sLW3FkrVSpF",
        "outputId": "40b68321-6aa3-4bb8-b64c-b1ec3c76da72"
      },
      "execution_count": null,
      "outputs": [
        {
          "output_type": "stream",
          "name": "stderr",
          "text": [
            "/usr/local/lib/python3.11/dist-packages/IPython/core/pylabtools.py:151: UserWarning: Glyph 127754 (\\N{WATER WAVE}) missing from font(s) DejaVu Sans.\n",
            "  fig.canvas.print_figure(bytes_io, **kw)\n"
          ]
        },
        {
          "output_type": "display_data",
          "data": {
            "text/plain": [
              "<Figure size 640x480 with 1 Axes>"
            ],
            "image/png": "[encoded data removed]"
          },
          "metadata": {}
        }
      ]
    },
    {
      "cell_type": "code",
      "source": [
        "class GateKeeper(nn.Module):\n",
        "    def __init__(self, hidden=16):\n",
        "        super().__init__()\n",
        "        self.lstm = nn.LSTM(input_size=1, hidden_size=hidden, batch_first=True)\n",
        "        self.out  = nn.Linear(hidden, 1)\n",
        "\n",
        "    def forward(self, x):\n",
        "        out, _ = self.lstm(x)\n",
        "        return self.out(out)          # (seq_len, 1)"
      ],
      "metadata": {
        "id": "7d-WgN-HVSrc"
      },
      "execution_count": null,
      "outputs": []
    },
    {
      "cell_type": "code",
      "source": [
        "net = GateKeeper()\n",
        "\n",
        "def play(seq_len=40, epochs=150):\n",
        "    x, y = make_sine(seq_len)\n",
        "    opt = torch.optim.Adam(net.parameters(), 0.01)\n",
        "    for _ in range(epochs):\n",
        "        pred = net(x.unsqueeze(0))\n",
        "        loss = nn.MSELoss()(pred.squeeze(), y.squeeze())\n",
        "        opt.zero_grad(); loss.backward(); opt.step()\n",
        "\n",
        "    with torch.no_grad():\n",
        "        plt.figure(figsize=(8,2.5))\n",
        "        plt.plot(y, label=\"True\")\n",
        "        plt.plot(pred.squeeze(), '--', label=\"LSTM\")\n",
        "        plt.title(f\"Length {seq_len}\")\n",
        "        plt.legend(); plt.show()\n",
        "\n",
        "interact(play,\n",
        "         seq_len=IntSlider(40, min=20, max=120, step=10),\n",
        "         epochs=IntSlider(150, min=50, max=400, step=50))"
      ],
      "metadata": {
        "colab": {
          "base_uri": "https://localhost:8080/",
          "height": 425,
          "referenced_widgets": [
            "cbbcd93666c84d35a082cc42d14e2057",
            "93c5c7cc7d484f278792331dc6c43a84",
            "083764f295c14026937e58b6d5dec90d",
            "2c3a8ffc9d2e411eaa7704b32f909fda",
            "e1864952970d4ff7b6ff18afd8774ba3",
            "e4646dbdaa714e1f93738f604ce7cddf",
            "688e0bb658b24178a5735327e492969c",
            "fac5bb7af5bd4e1195637c0ff544813b",
            "6b17484c31284476816db992c731a8f2",
            "70f297ea1e6d4393b40e2680dc0410bd"
          ]
        },
        "id": "qNQ-8bvzVSuO",
        "outputId": "6b0bc4b1-dcf8-4867-8b14-09f845f5449c"
      },
      "execution_count": null,
      "outputs": [
        {
          "output_type": "display_data",
          "data": {
            "text/plain": [
              "interactive(children=(IntSlider(value=40, description='seq_len', max=120, min=20, step=10), IntSlider(value=15…"
            ],
            "application/vnd.jupyter.widget-view+json": {
              "version_major": 2,
              "version_minor": 0,
              "model_id": "cbbcd93666c84d35a082cc42d14e2057"
            }
          },
          "metadata": {}
        },
        {
          "output_type": "execute_result",
          "data": {
            "text/plain": [
              "<function __main__.play(seq_len=40, epochs=150)>"
            ],
            "text/html": [
              "<div style=\"max-width:800px; border: 1px solid var(--colab-border-color);\"><style>\n",
              "      pre.function-repr-contents {\n",
              "        overflow-x: auto;\n",
              "        padding: 8px 12px;\n",
              "        max-height: 500px;\n",
              "      }\n",
              "\n",
              "      pre.function-repr-contents.function-repr-contents-collapsed {\n",
              "        cursor: pointer;\n",
              "        max-height: 100px;\n",
              "      }\n",
              "    </style>\n",
              "    <pre style=\"white-space: initial; background:\n",
              "         var(--colab-secondary-surface-color); padding: 8px 12px;\n",
              "         border-bottom: 1px solid var(--colab-border-color);\"><b>play</b><br/>def play(seq_len=40, epochs=150)</pre><pre class=\"function-repr-contents function-repr-contents-collapsed\" style=\"\"><a class=\"filepath\" style=\"display:none\" href=\"#\">/tmp/ipython-input-4-1196474454.py</a>&lt;no docstring&gt;</pre></div>"
            ]
          },
          "metadata": {},
          "execution_count": 4
        }
      ]
    },
    {
      "cell_type": "code",
      "source": [
        "def show_states(seq_len=50):\n",
        "    x, _ = make_sine(seq_len)\n",
        "    h0 = torch.zeros(1, 1, 16)        # hidden\n",
        "    c0 = torch.zeros(1, 1, 16)        # cell\n",
        "    hs, cs = [], []\n",
        "    for t in range(seq_len):\n",
        "        _, (h0, c0) = net.lstm(x[t:t+1].unsqueeze(0), (h0, c0))\n",
        "        hs.append(h0.squeeze().detach().numpy())\n",
        "        cs.append(c0.squeeze().detach().numpy())\n",
        "\n",
        "    fig, ax = plt.subplots(1,2, figsize=(11,3))\n",
        "    ax[0].imshow(np.array(hs).T, cmap='cool', aspect='auto')\n",
        "    ax[0].set_title(\"Hidden state hₜ\")\n",
        "    ax[1].imshow(np.array(cs).T, cmap='spring', aspect='auto')\n",
        "    ax[1].set_title(\"Cell state cₜ\")\n",
        "    for a in ax: a.set_xlabel(\"step\"); a.set_ylabel(\"neuron\")\n",
        "    plt.tight_layout(); plt.show()\n",
        "\n",
        "interact(show_states, seq_len=(20,100,10))"
      ],
      "metadata": {
        "colab": {
          "base_uri": "https://localhost:8080/",
          "height": 425,
          "referenced_widgets": [
            "683919df57bd46aa9bb26d8180e8d669",
            "1c04e72f86f34c6bafbc36bd71d85c1f",
            "06838948fe46422aa2c1005074e43189",
            "b64be342f39b409f8d1d2d29074f37cd",
            "69290bcafe7d4a5da2610f41361a65f5",
            "bd923389e4684d74ba83cd4a56907d9c",
            "0ffe383d478345b3a7370022035df3bd"
          ]
        },
        "id": "HQOSL50SVSw4",
        "outputId": "3a3fd292-1ae2-4172-dce5-4ea5ec8965e8"
      },
      "execution_count": null,
      "outputs": [
        {
          "output_type": "display_data",
          "data": {
            "text/plain": [
              "interactive(children=(IntSlider(value=50, description='seq_len', min=20, step=10), Output()), _dom_classes=('w…"
            ],
            "application/vnd.jupyter.widget-view+json": {
              "version_major": 2,
              "version_minor": 0,
              "model_id": "683919df57bd46aa9bb26d8180e8d669"
            }
          },
          "metadata": {}
        },
        {
          "output_type": "execute_result",
          "data": {
            "text/plain": [
              "<function __main__.show_states(seq_len=50)>"
            ],
            "text/html": [
              "<div style=\"max-width:800px; border: 1px solid var(--colab-border-color);\"><style>\n",
              "      pre.function-repr-contents {\n",
              "        overflow-x: auto;\n",
              "        padding: 8px 12px;\n",
              "        max-height: 500px;\n",
              "      }\n",
              "\n",
              "      pre.function-repr-contents.function-repr-contents-collapsed {\n",
              "        cursor: pointer;\n",
              "        max-height: 100px;\n",
              "      }\n",
              "    </style>\n",
              "    <pre style=\"white-space: initial; background:\n",
              "         var(--colab-secondary-surface-color); padding: 8px 12px;\n",
              "         border-bottom: 1px solid var(--colab-border-color);\"><b>show_states</b><br/>def show_states(seq_len=50)</pre><pre class=\"function-repr-contents function-repr-contents-collapsed\" style=\"\"><a class=\"filepath\" style=\"display:none\" href=\"#\">/tmp/ipython-input-7-1559176987.py</a>&lt;no docstring&gt;</pre></div>"
            ]
          },
          "metadata": {},
          "execution_count": 7
        }
      ]
    },
    {
      "cell_type": "code",
      "source": [
        "def gate_magnitudes(seq_len=60):\n",
        "    lstm = net.lstm\n",
        "    x, _ = make_sine(seq_len)\n",
        "    gates_all = []\n",
        "    h, c = torch.zeros(1,1,16), torch.zeros(1,1,16)\n",
        "    for t in range(seq_len):\n",
        "        gates = lstm._backend.RNN.LSTMCell(x[t:t+1], (h, c), *lstm.all_weights)\n",
        "        i, f, g, o = gates.chunk(4, -1)  # forget, input, etc.\n",
        "        gates_all.append([i.abs().mean(), f.abs().mean(), g.abs().mean(), o.abs().mean()])\n",
        "    labels=[\"Input ⛅\", \"Forget 🗑️\", \"Candidate 🌱\", \"Output 🔓\"]\n",
        "    plt.plot(np.array(gates_all)); plt.legend(labels)\n",
        "    plt.title(\"Average gate activity\"); plt.ylabel(\"abs mean\"); plt.xlabel(\"step\")\n",
        "    plt.show()\n",
        "\n",
        "interact(gate_magnitudes, seq_len=(30,120,10))"
      ],
      "metadata": {
        "colab": {
          "base_uri": "https://localhost:8080/",
          "height": 474,
          "referenced_widgets": [
            "06b8bcfe271d4213886503711e74c63f",
            "a4237bc5863b4b8baf6642b921e4f67e",
            "f748fdb32bbf4269aec19ff06a28dee6",
            "a7f75c66b89a4afa80039e1690e1dfa7",
            "9d6f5d386e494257a2a9e2e2bbc69983",
            "199229bba2ba4c4a94651b757adcaf80",
            "3c898fd148e04319b73cd65045bfdc9f"
          ]
        },
        "id": "5dyh0rHgVSzk",
        "outputId": "325688f1-5e22-4807-d6ab-6f52205ec62c"
      },
      "execution_count": null,
      "outputs": [
        {
          "output_type": "display_data",
          "data": {
            "text/plain": [
              "interactive(children=(IntSlider(value=60, description='seq_len', max=120, min=30, step=10), Output()), _dom_cl…"
            ],
            "application/vnd.jupyter.widget-view+json": {
              "version_major": 2,
              "version_minor": 0,
              "model_id": "06b8bcfe271d4213886503711e74c63f"
            }
          },
          "metadata": {}
        },
        {
          "output_type": "execute_result",
          "data": {
            "text/plain": [
              "<function __main__.gate_magnitudes(seq_len=60)>"
            ],
            "text/html": [
              "<div style=\"max-width:800px; border: 1px solid var(--colab-border-color);\"><style>\n",
              "      pre.function-repr-contents {\n",
              "        overflow-x: auto;\n",
              "        padding: 8px 12px;\n",
              "        max-height: 500px;\n",
              "      }\n",
              "\n",
              "      pre.function-repr-contents.function-repr-contents-collapsed {\n",
              "        cursor: pointer;\n",
              "        max-height: 100px;\n",
              "      }\n",
              "    </style>\n",
              "    <pre style=\"white-space: initial; background:\n",
              "         var(--colab-secondary-surface-color); padding: 8px 12px;\n",
              "         border-bottom: 1px solid var(--colab-border-color);\"><b>gate_magnitudes</b><br/>def gate_magnitudes(seq_len=60)</pre><pre class=\"function-repr-contents function-repr-contents-collapsed\" style=\"\"><a class=\"filepath\" style=\"display:none\" href=\"#\">/tmp/ipython-input-6-569428528.py</a>&lt;no docstring&gt;</pre></div>"
            ]
          },
          "metadata": {},
          "execution_count": 6
        }
      ]
    },
    {
      "cell_type": "code",
      "source": [
        "class PlainRNN(nn.Module):\n",
        "    def __init__(self, hidden=16):\n",
        "        super().__init__()\n",
        "        self.rnn = nn.RNN(input_size=1, hidden_size=hidden, batch_first=True)\n",
        "        self.out = nn.Linear(hidden, 1)\n",
        "    def forward(self, x):\n",
        "        return self.out(self.rnn(x)[0])\n",
        "\n",
        "def battle(seq_len=80):\n",
        "    models = {\"Plain RNN\": PlainRNN(), \"LSTM\": GateKeeper()}\n",
        "    plt.figure(figsize=(8,3))\n",
        "    for name, m in models.items():\n",
        "        opt = torch.optim.Adam(m.parameters(), 0.01)\n",
        "        x, y = make_sine(seq_len)\n",
        "        losses=[]\n",
        "        for _ in range(200):\n",
        "            loss = nn.MSELoss()(m(x.unsqueeze(0)).squeeze(), y.squeeze())\n",
        "            loss.backward(); opt.step(); opt.zero_grad()\n",
        "            losses.append(loss.item())\n",
        "        plt.plot(losses, label=name)\n",
        "    plt.title(\"Loss vs. Epoch (long sequence)\")\n",
        "    plt.yscale('log'); plt.legend(); plt.show()\n",
        "\n",
        "interact(battle, seq_len=(40,150,10))"
      ],
      "metadata": {
        "colab": {
          "base_uri": "https://localhost:8080/",
          "height": 432,
          "referenced_widgets": [
            "71039d5611a4477e8d8c4871b7bd53a0",
            "5fb75d4e5f7446bfb1f38763559892dd",
            "6a3b9c62784943b78af58f1e74675c5a",
            "96ef0d1077074c5783f3bb2eb964a48d",
            "1b1505224f944b4ea39ccf99223d71fb",
            "25d5eb5fc02f43829ad8b81bf63dc877",
            "7c25df5ed21b4ea093f0103f31f636b0"
          ]
        },
        "id": "8V051PTFVS2l",
        "outputId": "7a097f38-886f-40a1-a313-ecb14b042295"
      },
      "execution_count": null,
      "outputs": [
        {
          "output_type": "display_data",
          "data": {
            "text/plain": [
              "interactive(children=(IntSlider(value=80, description='seq_len', max=150, min=40, step=10), Output()), _dom_cl…"
            ],
            "application/vnd.jupyter.widget-view+json": {
              "version_major": 2,
              "version_minor": 0,
              "model_id": "71039d5611a4477e8d8c4871b7bd53a0"
            }
          },
          "metadata": {}
        },
        {
          "output_type": "execute_result",
          "data": {
            "text/plain": [
              "<function __main__.battle(seq_len=80)>"
            ],
            "text/html": [
              "<div style=\"max-width:800px; border: 1px solid var(--colab-border-color);\"><style>\n",
              "      pre.function-repr-contents {\n",
              "        overflow-x: auto;\n",
              "        padding: 8px 12px;\n",
              "        max-height: 500px;\n",
              "      }\n",
              "\n",
              "      pre.function-repr-contents.function-repr-contents-collapsed {\n",
              "        cursor: pointer;\n",
              "        max-height: 100px;\n",
              "      }\n",
              "    </style>\n",
              "    <pre style=\"white-space: initial; background:\n",
              "         var(--colab-secondary-surface-color); padding: 8px 12px;\n",
              "         border-bottom: 1px solid var(--colab-border-color);\"><b>battle</b><br/>def battle(seq_len=80)</pre><pre class=\"function-repr-contents function-repr-contents-collapsed\" style=\"\"><a class=\"filepath\" style=\"display:none\" href=\"#\">/tmp/ipython-input-8-4044074789.py</a>&lt;no docstring&gt;</pre></div>"
            ]
          },
          "metadata": {},
          "execution_count": 8
        }
      ]
    },
    {
      "cell_type": "code",
      "source": [
        "from IPython.display import Markdown as md\n",
        "md(\"\"\"\n",
        "| Gate | Emoji | Job |\n",
        "|---|---|---|\n",
        "| **Forget** | 🗑️ | Erase old info |\n",
        "| **Input** | ⛅ | Add new info |\n",
        "| **Output** | 🔓 | Decide what to expose |\n",
        "| **Cell** | 🛤️ | Long-term conveyor belt |\n",
        "\"\"\")"
      ],
      "metadata": {
        "colab": {
          "base_uri": "https://localhost:8080/",
          "height": 174
        },
        "id": "f38_VgqWWSur",
        "outputId": "41d436e3-c9c8-42c9-a54c-79b260565d8b"
      },
      "execution_count": null,
      "outputs": [
        {
          "output_type": "execute_result",
          "data": {
            "text/plain": [
              "<IPython.core.display.Markdown object>"
            ],
            "text/markdown": "\n| Gate | Emoji | Job |\n|---|---|---|\n| **Forget** | 🗑️ | Erase old info |\n| **Input** | ⛅ | Add new info |\n| **Output** | 🔓 | Decide what to expose |\n| **Cell** | 🛤️ | Long-term conveyor belt |\n"
          },
          "metadata": {},
          "execution_count": 9
        }
      ]
    }
  ]
}