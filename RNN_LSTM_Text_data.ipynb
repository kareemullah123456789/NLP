{
  "nbformat": 4,
  "nbformat_minor": 0,
  "metadata": {
    "colab": {
      "provenance": [],
      "authorship_tag": "ABX9TyNB0dUtzeqcC/pZdeCk2/3h",
      "include_colab_link": true
    },
    "kernelspec": {
      "name": "python3",
      "display_name": "Python 3"
    },
    "language_info": {
      "name": "python"
    },
    "widgets": {
      "application/vnd.jupyter.widget-state+json": {
        "ca15afee313e4dd39b98896508434715": {
          "model_module": "@jupyter-widgets/controls",
          "model_name": "VBoxModel",
          "model_module_version": "1.5.0",
          "state": {
            "_dom_classes": [
              "widget-interact"
            ],
            "_model_module": "@jupyter-widgets/controls",
            "_model_module_version": "1.5.0",
            "_model_name": "VBoxModel",
            "_view_count": null,
            "_view_module": "@jupyter-widgets/controls",
            "_view_module_version": "1.5.0",
            "_view_name": "VBoxView",
            "box_style": "",
            "children": [
              "IPY_MODEL_3cb7734a0dea4d148c4e0eece829a34f",
              "IPY_MODEL_9a48800663714392b3171c346a1e5a4c",
              "IPY_MODEL_dc2f845d1f6549f1be9b6481eb0fd59d",
              "IPY_MODEL_91ef0024c3b24960bc48a30235213e96"
            ],
            "layout": "IPY_MODEL_3ccf8277561d4e0799b48094ffcdc131"
          }
        },
        "3cb7734a0dea4d148c4e0eece829a34f": {
          "model_module": "@jupyter-widgets/controls",
          "model_name": "IntSliderModel",
          "model_module_version": "1.5.0",
          "state": {
            "_dom_classes": [],
            "_model_module": "@jupyter-widgets/controls",
            "_model_module_version": "1.5.0",
            "_model_name": "IntSliderModel",
            "_view_count": null,
            "_view_module": "@jupyter-widgets/controls",
            "_view_module_version": "1.5.0",
            "_view_name": "IntSliderView",
            "continuous_update": true,
            "description": "seq_len",
            "description_tooltip": null,
            "disabled": false,
            "layout": "IPY_MODEL_afd77224368e4e749156e2bf514d82c4",
            "max": 80,
            "min": 15,
            "orientation": "horizontal",
            "readout": true,
            "readout_format": "d",
            "step": 5,
            "style": "IPY_MODEL_f1393a71fdb64fd19921ce976f41dc9e",
            "value": 20
          }
        },
        "9a48800663714392b3171c346a1e5a4c": {
          "model_module": "@jupyter-widgets/controls",
          "model_name": "DropdownModel",
          "model_module_version": "1.5.0",
          "state": {
            "_dom_classes": [],
            "_model_module": "@jupyter-widgets/controls",
            "_model_module_version": "1.5.0",
            "_model_name": "DropdownModel",
            "_options_labels": [
              "RNN",
              "LSTM"
            ],
            "_view_count": null,
            "_view_module": "@jupyter-widgets/controls",
            "_view_module_version": "1.5.0",
            "_view_name": "DropdownView",
            "description": "model_type",
            "description_tooltip": null,
            "disabled": false,
            "index": 1,
            "layout": "IPY_MODEL_98de99ad94e7444fb9777910c3da05ba",
            "style": "IPY_MODEL_414c0d36c8154bf2ab5a681969311ab7"
          }
        },
        "dc2f845d1f6549f1be9b6481eb0fd59d": {
          "model_module": "@jupyter-widgets/controls",
          "model_name": "IntSliderModel",
          "model_module_version": "1.5.0",
          "state": {
            "_dom_classes": [],
            "_model_module": "@jupyter-widgets/controls",
            "_model_module_version": "1.5.0",
            "_model_name": "IntSliderModel",
            "_view_count": null,
            "_view_module": "@jupyter-widgets/controls",
            "_view_module_version": "1.5.0",
            "_view_name": "IntSliderView",
            "continuous_update": true,
            "description": "epochs",
            "description_tooltip": null,
            "disabled": false,
            "layout": "IPY_MODEL_0b3eed5139014571a3835d7034514c82",
            "max": 600,
            "min": -200,
            "orientation": "horizontal",
            "readout": true,
            "readout_format": "d",
            "step": 1,
            "style": "IPY_MODEL_9a67ac4fb0244e6ba120fc76ee6f25ae",
            "value": 600
          }
        },
        "91ef0024c3b24960bc48a30235213e96": {
          "model_module": "@jupyter-widgets/output",
          "model_name": "OutputModel",
          "model_module_version": "1.0.0",
          "state": {
            "_dom_classes": [],
            "_model_module": "@jupyter-widgets/output",
            "_model_module_version": "1.0.0",
            "_model_name": "OutputModel",
            "_view_count": null,
            "_view_module": "@jupyter-widgets/output",
            "_view_module_version": "1.0.0",
            "_view_name": "OutputView",
            "layout": "IPY_MODEL_4f45ad2a513041bfbc257f0acd810e0f",
            "msg_id": "",
            "outputs": [
              {
                "output_type": "stream",
                "name": "stdout",
                "text": [
                  "LSTM (20 chars) →  hello world, how art thou? hello world, how art thou? hello\n"
                ]
              }
            ]
          }
        },
        "3ccf8277561d4e0799b48094ffcdc131": {
          "model_module": "@jupyter-widgets/base",
          "model_name": "LayoutModel",
          "model_module_version": "1.2.0",
          "state": {
            "_model_module": "@jupyter-widgets/base",
            "_model_module_version": "1.2.0",
            "_model_name": "LayoutModel",
            "_view_count": null,
            "_view_module": "@jupyter-widgets/base",
            "_view_module_version": "1.2.0",
            "_view_name": "LayoutView",
            "align_content": null,
            "align_items": null,
            "align_self": null,
            "border": null,
            "bottom": null,
            "display": null,
            "flex": null,
            "flex_flow": null,
            "grid_area": null,
            "grid_auto_columns": null,
            "grid_auto_flow": null,
            "grid_auto_rows": null,
            "grid_column": null,
            "grid_gap": null,
            "grid_row": null,
            "grid_template_areas": null,
            "grid_template_columns": null,
            "grid_template_rows": null,
            "height": null,
            "justify_content": null,
            "justify_items": null,
            "left": null,
            "margin": null,
            "max_height": null,
            "max_width": null,
            "min_height": null,
            "min_width": null,
            "object_fit": null,
            "object_position": null,
            "order": null,
            "overflow": null,
            "overflow_x": null,
            "overflow_y": null,
            "padding": null,
            "right": null,
            "top": null,
            "visibility": null,
            "width": null
          }
        },
        "afd77224368e4e749156e2bf514d82c4": {
          "model_module": "@jupyter-widgets/base",
          "model_name": "LayoutModel",
          "model_module_version": "1.2.0",
          "state": {
            "_model_module": "@jupyter-widgets/base",
            "_model_module_version": "1.2.0",
            "_model_name": "LayoutModel",
            "_view_count": null,
            "_view_module": "@jupyter-widgets/base",
            "_view_module_version": "1.2.0",
            "_view_name": "LayoutView",
            "align_content": null,
            "align_items": null,
            "align_self": null,
            "border": null,
            "bottom": null,
            "display": null,
            "flex": null,
            "flex_flow": null,
            "grid_area": null,
            "grid_auto_columns": null,
            "grid_auto_flow": null,
            "grid_auto_rows": null,
            "grid_column": null,
            "grid_gap": null,
            "grid_row": null,
            "grid_template_areas": null,
            "grid_template_columns": null,
            "grid_template_rows": null,
            "height": null,
            "justify_content": null,
            "justify_items": null,
            "left": null,
            "margin": null,
            "max_height": null,
            "max_width": null,
            "min_height": null,
            "min_width": null,
            "object_fit": null,
            "object_position": null,
            "order": null,
            "overflow": null,
            "overflow_x": null,
            "overflow_y": null,
            "padding": null,
            "right": null,
            "top": null,
            "visibility": null,
            "width": null
          }
        },
        "f1393a71fdb64fd19921ce976f41dc9e": {
          "model_module": "@jupyter-widgets/controls",
          "model_name": "SliderStyleModel",
          "model_module_version": "1.5.0",
          "state": {
            "_model_module": "@jupyter-widgets/controls",
            "_model_module_version": "1.5.0",
            "_model_name": "SliderStyleModel",
            "_view_count": null,
            "_view_module": "@jupyter-widgets/base",
            "_view_module_version": "1.2.0",
            "_view_name": "StyleView",
            "description_width": "",
            "handle_color": null
          }
        },
        "98de99ad94e7444fb9777910c3da05ba": {
          "model_module": "@jupyter-widgets/base",
          "model_name": "LayoutModel",
          "model_module_version": "1.2.0",
          "state": {
            "_model_module": "@jupyter-widgets/base",
            "_model_module_version": "1.2.0",
            "_model_name": "LayoutModel",
            "_view_count": null,
            "_view_module": "@jupyter-widgets/base",
            "_view_module_version": "1.2.0",
            "_view_name": "LayoutView",
            "align_content": null,
            "align_items": null,
            "align_self": null,
            "border": null,
            "bottom": null,
            "display": null,
            "flex": null,
            "flex_flow": null,
            "grid_area": null,
            "grid_auto_columns": null,
            "grid_auto_flow": null,
            "grid_auto_rows": null,
            "grid_column": null,
            "grid_gap": null,
            "grid_row": null,
            "grid_template_areas": null,
            "grid_template_columns": null,
            "grid_template_rows": null,
            "height": null,
            "justify_content": null,
            "justify_items": null,
            "left": null,
            "margin": null,
            "max_height": null,
            "max_width": null,
            "min_height": null,
            "min_width": null,
            "object_fit": null,
            "object_position": null,
            "order": null,
            "overflow": null,
            "overflow_x": null,
            "overflow_y": null,
            "padding": null,
            "right": null,
            "top": null,
            "visibility": null,
            "width": null
          }
        },
        "414c0d36c8154bf2ab5a681969311ab7": {
          "model_module": "@jupyter-widgets/controls",
          "model_name": "DescriptionStyleModel",
          "model_module_version": "1.5.0",
          "state": {
            "_model_module": "@jupyter-widgets/controls",
            "_model_module_version": "1.5.0",
            "_model_name": "DescriptionStyleModel",
            "_view_count": null,
            "_view_module": "@jupyter-widgets/base",
            "_view_module_version": "1.2.0",
            "_view_name": "StyleView",
            "description_width": ""
          }
        },
        "0b3eed5139014571a3835d7034514c82": {
          "model_module": "@jupyter-widgets/base",
          "model_name": "LayoutModel",
          "model_module_version": "1.2.0",
          "state": {
            "_model_module": "@jupyter-widgets/base",
            "_model_module_version": "1.2.0",
            "_model_name": "LayoutModel",
            "_view_count": null,
            "_view_module": "@jupyter-widgets/base",
            "_view_module_version": "1.2.0",
            "_view_name": "LayoutView",
            "align_content": null,
            "align_items": null,
            "align_self": null,
            "border": null,
            "bottom": null,
            "display": null,
            "flex": null,
            "flex_flow": null,
            "grid_area": null,
            "grid_auto_columns": null,
            "grid_auto_flow": null,
            "grid_auto_rows": null,
            "grid_column": null,
            "grid_gap": null,
            "grid_row": null,
            "grid_template_areas": null,
            "grid_template_columns": null,
            "grid_template_rows": null,
            "height": null,
            "justify_content": null,
            "justify_items": null,
            "left": null,
            "margin": null,
            "max_height": null,
            "max_width": null,
            "min_height": null,
            "min_width": null,
            "object_fit": null,
            "object_position": null,
            "order": null,
            "overflow": null,
            "overflow_x": null,
            "overflow_y": null,
            "padding": null,
            "right": null,
            "top": null,
            "visibility": null,
            "width": null
          }
        },
        "9a67ac4fb0244e6ba120fc76ee6f25ae": {
          "model_module": "@jupyter-widgets/controls",
          "model_name": "SliderStyleModel",
          "model_module_version": "1.5.0",
          "state": {
            "_model_module": "@jupyter-widgets/controls",
            "_model_module_version": "1.5.0",
            "_model_name": "SliderStyleModel",
            "_view_count": null,
            "_view_module": "@jupyter-widgets/base",
            "_view_module_version": "1.2.0",
            "_view_name": "StyleView",
            "description_width": "",
            "handle_color": null
          }
        },
        "4f45ad2a513041bfbc257f0acd810e0f": {
          "model_module": "@jupyter-widgets/base",
          "model_name": "LayoutModel",
          "model_module_version": "1.2.0",
          "state": {
            "_model_module": "@jupyter-widgets/base",
            "_model_module_version": "1.2.0",
            "_model_name": "LayoutModel",
            "_view_count": null,
            "_view_module": "@jupyter-widgets/base",
            "_view_module_version": "1.2.0",
            "_view_name": "LayoutView",
            "align_content": null,
            "align_items": null,
            "align_self": null,
            "border": null,
            "bottom": null,
            "display": null,
            "flex": null,
            "flex_flow": null,
            "grid_area": null,
            "grid_auto_columns": null,
            "grid_auto_flow": null,
            "grid_auto_rows": null,
            "grid_column": null,
            "grid_gap": null,
            "grid_row": null,
            "grid_template_areas": null,
            "grid_template_columns": null,
            "grid_template_rows": null,
            "height": null,
            "justify_content": null,
            "justify_items": null,
            "left": null,
            "margin": null,
            "max_height": null,
            "max_width": null,
            "min_height": null,
            "min_width": null,
            "object_fit": null,
            "object_position": null,
            "order": null,
            "overflow": null,
            "overflow_x": null,
            "overflow_y": null,
            "padding": null,
            "right": null,
            "top": null,
            "visibility": null,
            "width": null
          }
        }
      }
    }
  },
  "cells": [
    {
      "cell_type": "markdown",
      "metadata": {
        "id": "view-in-github",
        "colab_type": "text"
      },
      "source": [
        "<a href=\"https://colab.research.google.com/github/kareemullah123456789/NLP/blob/main/RNN_LSTM_Text_data.ipynb\" target=\"_parent\"><img src=\"https://colab.research.google.com/assets/colab-badge.svg\" alt=\"Open In Colab\"/></a>"
      ]
    },
    {
      "cell_type": "code",
      "execution_count": 1,
      "metadata": {
        "id": "bg_DMS9hZIB4"
      },
      "outputs": [],
      "source": [
        "# nothing to install\n",
        "import torch, torch.nn as nn, matplotlib.pyplot as plt, numpy as np, random\n",
        "from ipywidgets import interact, IntSlider"
      ]
    },
    {
      "cell_type": "code",
      "source": [
        "# ---- Cell 1 (unchanged except decode) ----\n",
        "text  = \"hello world, how art thou? hello world, how art thou? \"\n",
        "chars = sorted(list(set(text)))\n",
        "stoi  = {ch:i for i,ch in enumerate(chars)}\n",
        "itos  = {i:ch for i,ch in enumerate(chars)}\n",
        "\n",
        "encode = lambda s: [stoi[c] for c in s]\n",
        "decode = lambda idx: ''.join(itos[i.item() if hasattr(i,'item') else i] for i in idx)\n",
        "\n",
        "print(\"📜 Vocab:\", ''.join(chars))\n",
        "print(\"Example encoded:\", encode(\"hello\")[:3])"
      ],
      "metadata": {
        "colab": {
          "base_uri": "https://localhost:8080/"
        },
        "id": "FMm5CPoZZSOG",
        "outputId": "d09ba95c-35d8-4a57-a3b4-251ef580193c"
      },
      "execution_count": 7,
      "outputs": [
        {
          "output_type": "stream",
          "name": "stdout",
          "text": [
            "📜 Vocab:  ,?adehlortuw\n",
            "Example encoded: [6, 5, 7]\n"
          ]
        }
      ]
    },
    {
      "cell_type": "code",
      "source": [
        "def make_chunks(seq_len=20):\n",
        "    data = torch.tensor(encode(text), dtype=torch.long)\n",
        "    ix = random.randint(0, len(data)-seq_len-1)\n",
        "    x = data[ix:ix+seq_len]\n",
        "    y = data[ix+1:ix+seq_len+1]\n",
        "    return x.unsqueeze(0), y.unsqueeze(0)   # (1, seq_len)\n",
        "\n",
        "x, y = make_chunks()\n",
        "print(\"Input :\", decode(x[0].tolist()))\n",
        "print(\"Target:\", decode(y[0].tolist()))"
      ],
      "metadata": {
        "colab": {
          "base_uri": "https://localhost:8080/"
        },
        "id": "9_4B6SDUZSRW",
        "outputId": "64f6bd4d-46b5-41df-f7be-75d1107434a7"
      },
      "execution_count": 8,
      "outputs": [
        {
          "output_type": "stream",
          "name": "stdout",
          "text": [
            "Input : art thou? hello worl\n",
            "Target: rt thou? hello world\n"
          ]
        }
      ]
    },
    {
      "cell_type": "code",
      "source": [
        "def make_chunks(seq_len=20):\n",
        "    data = torch.tensor(encode(text), dtype=torch.long)\n",
        "    ix = random.randint(0, len(data)-seq_len-1)\n",
        "    x = data[ix:ix+seq_len]\n",
        "    y = data[ix+1:ix+seq_len+1]\n",
        "    return x.unsqueeze(0), y.unsqueeze(0)   # (1, seq_len)\n",
        "\n",
        "x, y = make_chunks()\n",
        "print(\"Input :\", decode(x[0].tolist()))\n",
        "print(\"Target:\", decode(y[0].tolist()))"
      ],
      "metadata": {
        "colab": {
          "base_uri": "https://localhost:8080/"
        },
        "id": "J_-o-hw3ZSUh",
        "outputId": "83e60869-0bd1-44d7-fcf3-d8deac2d6d5c"
      },
      "execution_count": 10,
      "outputs": [
        {
          "output_type": "stream",
          "name": "stdout",
          "text": [
            "Input : ? hello world, how a\n",
            "Target:  hello world, how ar\n"
          ]
        }
      ]
    },
    {
      "cell_type": "code",
      "source": [
        "vocab_size = len(chars)\n",
        "hidden = 32\n",
        "\n",
        "class TextRNN(nn.Module):\n",
        "    def __init__(self):\n",
        "        super().__init__()\n",
        "        self.embed = nn.Embedding(vocab_size, hidden)\n",
        "        self.rnn   = nn.RNN(hidden, hidden, batch_first=True)\n",
        "        self.fc    = nn.Linear(hidden, vocab_size)\n",
        "\n",
        "    def forward(self, x):\n",
        "        x = self.embed(x)\n",
        "        out, _ = self.rnn(x)\n",
        "        return self.fc(out)\n",
        "\n",
        "class TextLSTM(nn.Module):\n",
        "    def __init__(self):\n",
        "        super().__init__()\n",
        "        self.embed = nn.Embedding(vocab_size, hidden)\n",
        "        self.lstm  = nn.LSTM(hidden, hidden, batch_first=True)\n",
        "        self.fc    = nn.Linear(hidden, vocab_size)\n",
        "\n",
        "    def forward(self, x):\n",
        "        x = self.embed(x)\n",
        "        out, _ = self.lstm(x)\n",
        "        return self.fc(out)"
      ],
      "metadata": {
        "id": "rIPq03y4ZSW_"
      },
      "execution_count": 11,
      "outputs": []
    },
    {
      "cell_type": "code",
      "source": [
        "def play(seq_len=20, model_type=\"LSTM\", epochs=200):\n",
        "    Model = TextLSTM if model_type == \"LSTM\" else TextRNN\n",
        "    model = Model()\n",
        "    opt = torch.optim.Adam(model.parameters(), 0.01)\n",
        "    loss_fn = nn.CrossEntropyLoss()\n",
        "\n",
        "    for _ in range(epochs):\n",
        "        xb, yb = make_chunks(seq_len)\n",
        "        logits = model(xb)\n",
        "        loss = loss_fn(logits.view(-1, vocab_size), yb.view(-1))\n",
        "        opt.zero_grad(); loss.backward(); opt.step()\n",
        "\n",
        "    # sample next 40 chars\n",
        "    model.eval()\n",
        "    seed, _ = make_chunks(seq_len)\n",
        "    seed_str = decode(seed[0].tolist())\n",
        "    with torch.no_grad():\n",
        "        inp = seed\n",
        "        generated = list(seed[0])\n",
        "        for _ in range(40):\n",
        "            logits = model(inp)\n",
        "            probs = torch.softmax(logits[0,-1], dim=0)\n",
        "            next_id = torch.multinomial(probs, num_samples=1)\n",
        "            generated.append(next_id.item())\n",
        "            inp = torch.cat([inp[:,1:], next_id.view(1,1)], dim=1)\n",
        "    result = decode(generated)\n",
        "    print(f\"{model_type} ({seq_len} chars) →\", result)\n",
        "\n",
        "interact(play,\n",
        "         seq_len=IntSlider(20, min=15, max=80, step=5),\n",
        "         model_type=[\"RNN\", \"LSTM\"])"
      ],
      "metadata": {
        "colab": {
          "base_uri": "https://localhost:8080/",
          "height": 216,
          "referenced_widgets": [
            "ca15afee313e4dd39b98896508434715",
            "3cb7734a0dea4d148c4e0eece829a34f",
            "9a48800663714392b3171c346a1e5a4c",
            "dc2f845d1f6549f1be9b6481eb0fd59d",
            "91ef0024c3b24960bc48a30235213e96",
            "3ccf8277561d4e0799b48094ffcdc131",
            "afd77224368e4e749156e2bf514d82c4",
            "f1393a71fdb64fd19921ce976f41dc9e",
            "98de99ad94e7444fb9777910c3da05ba",
            "414c0d36c8154bf2ab5a681969311ab7",
            "0b3eed5139014571a3835d7034514c82",
            "9a67ac4fb0244e6ba120fc76ee6f25ae",
            "4f45ad2a513041bfbc257f0acd810e0f"
          ]
        },
        "id": "2NBgrfgZZSZi",
        "outputId": "4058979f-3421-4146-e151-1be71bd7429f"
      },
      "execution_count": 12,
      "outputs": [
        {
          "output_type": "display_data",
          "data": {
            "text/plain": [
              "interactive(children=(IntSlider(value=20, description='seq_len', max=80, min=15, step=5), Dropdown(description…"
            ],
            "application/vnd.jupyter.widget-view+json": {
              "version_major": 2,
              "version_minor": 0,
              "model_id": "ca15afee313e4dd39b98896508434715"
            }
          },
          "metadata": {}
        },
        {
          "output_type": "execute_result",
          "data": {
            "text/plain": [
              "<function __main__.play(seq_len=20, model_type='LSTM', epochs=200)>"
            ],
            "text/html": [
              "<div style=\"max-width:800px; border: 1px solid var(--colab-border-color);\"><style>\n",
              "      pre.function-repr-contents {\n",
              "        overflow-x: auto;\n",
              "        padding: 8px 12px;\n",
              "        max-height: 500px;\n",
              "      }\n",
              "\n",
              "      pre.function-repr-contents.function-repr-contents-collapsed {\n",
              "        cursor: pointer;\n",
              "        max-height: 100px;\n",
              "      }\n",
              "    </style>\n",
              "    <pre style=\"white-space: initial; background:\n",
              "         var(--colab-secondary-surface-color); padding: 8px 12px;\n",
              "         border-bottom: 1px solid var(--colab-border-color);\"><b>play</b><br/>def play(seq_len=20, model_type=&#x27;LSTM&#x27;, epochs=200)</pre><pre class=\"function-repr-contents function-repr-contents-collapsed\" style=\"\"><a class=\"filepath\" style=\"display:none\" href=\"#\">/tmp/ipython-input-12-3401050376.py</a>&lt;no docstring&gt;</pre></div>"
            ]
          },
          "metadata": {},
          "execution_count": 12
        }
      ]
    },
    {
      "cell_type": "code",
      "source": [],
      "metadata": {
        "id": "Yg4YD7dWaE7j"
      },
      "execution_count": null,
      "outputs": []
    },
    {
      "cell_type": "code",
      "source": [],
      "metadata": {
        "id": "HGcciLOLaE-T"
      },
      "execution_count": null,
      "outputs": []
    },
    {
      "cell_type": "code",
      "source": [],
      "metadata": {
        "id": "gtrkkz_oZScI"
      },
      "execution_count": null,
      "outputs": []
    }
  ]
}